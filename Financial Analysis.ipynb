{
 "cells": [
  {
   "cell_type": "code",
   "execution_count": 2,
   "id": "95dcb969-4905-451e-8a02-849107787db9",
   "metadata": {},
   "outputs": [],
   "source": [
    "#Import Libraries\n",
    "import csv\n",
    "import pandas as pd\n",
    "from pathlib import Path\n",
    "\n",
    "#Import CSV Data\n",
    "budgetpath= Path(r\"Resources\\budget_data.csv\")\n",
    "budget_sheet= pd.read_csv(budgetpath)\n",
    "budget_dataframe= pd.DataFrame(budget_sheet)\n"
   ]
  },
  {
   "cell_type": "code",
   "execution_count": 3,
   "id": "e2b2c79b-8114-4686-89d9-0f2dff35cad4",
   "metadata": {},
   "outputs": [
    {
     "data": {
      "text/html": [
       "<div>\n",
       "<style scoped>\n",
       "    .dataframe tbody tr th:only-of-type {\n",
       "        vertical-align: middle;\n",
       "    }\n",
       "\n",
       "    .dataframe tbody tr th {\n",
       "        vertical-align: top;\n",
       "    }\n",
       "\n",
       "    .dataframe thead th {\n",
       "        text-align: right;\n",
       "    }\n",
       "</style>\n",
       "<table border=\"1\" class=\"dataframe\">\n",
       "  <thead>\n",
       "    <tr style=\"text-align: right;\">\n",
       "      <th></th>\n",
       "      <th>Date</th>\n",
       "      <th>Profit/Losses</th>\n",
       "    </tr>\n",
       "  </thead>\n",
       "  <tbody>\n",
       "    <tr>\n",
       "      <th>0</th>\n",
       "      <td>Jan-2010</td>\n",
       "      <td>867884</td>\n",
       "    </tr>\n",
       "    <tr>\n",
       "      <th>1</th>\n",
       "      <td>Feb-2010</td>\n",
       "      <td>984655</td>\n",
       "    </tr>\n",
       "    <tr>\n",
       "      <th>2</th>\n",
       "      <td>Mar-2010</td>\n",
       "      <td>322013</td>\n",
       "    </tr>\n",
       "    <tr>\n",
       "      <th>3</th>\n",
       "      <td>Apr-2010</td>\n",
       "      <td>-69417</td>\n",
       "    </tr>\n",
       "    <tr>\n",
       "      <th>4</th>\n",
       "      <td>May-2010</td>\n",
       "      <td>310503</td>\n",
       "    </tr>\n",
       "    <tr>\n",
       "      <th>...</th>\n",
       "      <td>...</td>\n",
       "      <td>...</td>\n",
       "    </tr>\n",
       "    <tr>\n",
       "      <th>81</th>\n",
       "      <td>Oct-2016</td>\n",
       "      <td>102685</td>\n",
       "    </tr>\n",
       "    <tr>\n",
       "      <th>82</th>\n",
       "      <td>Nov-2016</td>\n",
       "      <td>795914</td>\n",
       "    </tr>\n",
       "    <tr>\n",
       "      <th>83</th>\n",
       "      <td>Dec-2016</td>\n",
       "      <td>60988</td>\n",
       "    </tr>\n",
       "    <tr>\n",
       "      <th>84</th>\n",
       "      <td>Jan-2017</td>\n",
       "      <td>138230</td>\n",
       "    </tr>\n",
       "    <tr>\n",
       "      <th>85</th>\n",
       "      <td>Feb-2017</td>\n",
       "      <td>671099</td>\n",
       "    </tr>\n",
       "  </tbody>\n",
       "</table>\n",
       "<p>86 rows × 2 columns</p>\n",
       "</div>"
      ],
      "text/plain": [
       "        Date  Profit/Losses\n",
       "0   Jan-2010         867884\n",
       "1   Feb-2010         984655\n",
       "2   Mar-2010         322013\n",
       "3   Apr-2010         -69417\n",
       "4   May-2010         310503\n",
       "..       ...            ...\n",
       "81  Oct-2016         102685\n",
       "82  Nov-2016         795914\n",
       "83  Dec-2016          60988\n",
       "84  Jan-2017         138230\n",
       "85  Feb-2017         671099\n",
       "\n",
       "[86 rows x 2 columns]"
      ]
     },
     "execution_count": 3,
     "metadata": {},
     "output_type": "execute_result"
    }
   ],
   "source": [
    "budget_dataframe"
   ]
  },
  {
   "cell_type": "code",
   "execution_count": 110,
   "id": "a72e4225-1d5a-47d3-9da7-e09566ba6dee",
   "metadata": {
    "tags": []
   },
   "outputs": [],
   "source": [
    "#Financial Calculations\n",
    "\n",
    "Month_Counter=len(budget_dataframe) #number of months represented\n",
    "\n",
    "pl_sum=budget_dataframe['Profit/Losses'].sum() #total profit losses\n",
    "\n",
    "budget_dataframe['previousMonthPL']=budget_dataframe['Profit/Losses'].shift(1, fill_value=0) #create new column to track the Previous Month PL\n",
    "\n",
    "budget_dataframe['Diff']=budget_dataframe['Profit/Losses']-budget_dataframe['previousMonthPL'] #calculate the PL differences month to month\n",
    "\n",
    "accuratepl=budget_dataframe.iloc[1:,3] #pl minus the first month difference\n",
    "\n",
    "AveragePL= sum(accuratepl)/len(accuratepl) #find the average PL over the whole period"
   ]
  },
  {
   "cell_type": "code",
   "execution_count": 113,
   "id": "5bb3335c-9c55-42b7-984e-ea783c8a0854",
   "metadata": {
    "tags": []
   },
   "outputs": [],
   "source": [
    "#pinpoint the greatest profit increase\n",
    "for row in budget_dataframe.index:\n",
    "    if budget_dataframe['Diff'][row]==max(accuratepl):\n",
    "        MaxIncrease= budget_dataframe['Date'][row], budget_dataframe['Diff'][row]"
   ]
  },
  {
   "cell_type": "code",
   "execution_count": 114,
   "id": "05555b5e-e3e3-431c-afc0-c9535044f98f",
   "metadata": {
    "tags": []
   },
   "outputs": [],
   "source": [
    "#pinpoint the greatest profit loss\n",
    "for row in budget_dataframe.index:\n",
    "    if budget_dataframe['Diff'][row]==min(accuratepl):\n",
    "        MaxDecrease= budget_dataframe['Date'][row], budget_dataframe['Diff'][row]"
   ]
  },
  {
   "cell_type": "code",
   "execution_count": null,
   "id": "446f5f3b-4db3-4e9a-b746-6db47edcc9cf",
   "metadata": {},
   "outputs": [],
   "source": [
    "#Financial Analysis Report"
   ]
  },
  {
   "cell_type": "code",
   "execution_count": 128,
   "id": "485bc51c-1c26-49d7-b5e1-1dd139daef00",
   "metadata": {
    "tags": []
   },
   "outputs": [
    {
     "name": "stdout",
     "output_type": "stream",
     "text": [
      "Financial Analysis\n",
      "Report by Oluwademilade Oyebanji\n",
      "--------------------\n",
      "\n",
      "\n",
      "Total Number of Months: 86\n",
      "PL Total: 38382578\n",
      "Average PL Change: -2315.1176470588234\n",
      "Greatest Profit Increase: ('Feb-2012', 1926159)\n",
      "Greatest Profit Loss: ('Sep-2013', -2196167)\n"
     ]
    }
   ],
   "source": [
    "print(\"Financial Analysis\")\n",
    "print(\"Report by Oluwademilade Oyebanji\")\n",
    "print(\"--------------------\")\n",
    "print(\"\")\n",
    "print(\"\")\n",
    "print(f\"Total Number of Months: {Month_Counter}\")\n",
    "print(f\"PL Total: {pl_sum}\")\n",
    "print(f\"Average PL Change: {AveragePL}\")\n",
    "print(f\"Greatest Profit Increase: {MaxIncrease}\")\n",
    "print(f\"Greatest Profit Loss: {MaxDecrease}\")"
   ]
  }
 ],
 "metadata": {
  "kernelspec": {
   "display_name": "Python 3 (ipykernel)",
   "language": "python",
   "name": "python3"
  },
  "language_info": {
   "codemirror_mode": {
    "name": "ipython",
    "version": 3
   },
   "file_extension": ".py",
   "mimetype": "text/x-python",
   "name": "python",
   "nbconvert_exporter": "python",
   "pygments_lexer": "ipython3",
   "version": "3.11.5"
  }
 },
 "nbformat": 4,
 "nbformat_minor": 5
}
